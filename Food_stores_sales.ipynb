{
  "nbformat": 4,
  "nbformat_minor": 0,
  "metadata": {
    "colab": {
      "provenance": [],
      "authorship_tag": "ABX9TyP84KGuVNbpxtyXXDSM+8qO",
      "include_colab_link": true
    },
    "kernelspec": {
      "name": "python3",
      "display_name": "Python 3"
    },
    "language_info": {
      "name": "python"
    }
  },
  "cells": [
    {
      "cell_type": "markdown",
      "metadata": {
        "id": "view-in-github",
        "colab_type": "text"
      },
      "source": [
        "<a href=\"https://colab.research.google.com/github/BenjaminEngel919/Core-Projects/blob/main/Food_stores_sales.ipynb\" target=\"_parent\"><img src=\"https://colab.research.google.com/assets/colab-badge.svg\" alt=\"Open In Colab\"/></a>"
      ]
    },
    {
      "cell_type": "markdown",
      "source": [],
      "metadata": {
        "id": "pHTkYsRtSkGy"
      }
    },
    {
      "cell_type": "markdown",
      "source": [
        "#Project 1 - Part 1"
      ],
      "metadata": {
        "id": "YwLqwnMvSnJ6"
      }
    },
    {
      "cell_type": "markdown",
      "source": [
        "###Benjamin Engel"
      ],
      "metadata": {
        "id": "RBwsS4rWSvAC"
      }
    },
    {
      "cell_type": "markdown",
      "source": [
        "##Loading Data"
      ],
      "metadata": {
        "id": "vP1sdKelSze1"
      }
    },
    {
      "cell_type": "code",
      "source": [],
      "metadata": {
        "id": "97TDWn5NTNts"
      },
      "execution_count": null,
      "outputs": []
    },
    {
      "cell_type": "markdown",
      "source": [
        "##Data Cleaning"
      ],
      "metadata": {
        "id": "NLBjTkVLS3yv"
      }
    },
    {
      "cell_type": "code",
      "source": [],
      "metadata": {
        "id": "LJDnvCNWTOXb"
      },
      "execution_count": null,
      "outputs": []
    },
    {
      "cell_type": "markdown",
      "source": [
        "##Exploratory Visuals"
      ],
      "metadata": {
        "id": "Rnz9WtzKS79A"
      }
    },
    {
      "cell_type": "code",
      "source": [],
      "metadata": {
        "id": "WT-QRkO3TO8Y"
      },
      "execution_count": null,
      "outputs": []
    },
    {
      "cell_type": "markdown",
      "source": [
        "##Explanatory Visuals\n"
      ],
      "metadata": {
        "id": "8X-02unkTDGy"
      }
    },
    {
      "cell_type": "code",
      "source": [],
      "metadata": {
        "id": "jSGHm8CJTPcW"
      },
      "execution_count": null,
      "outputs": []
    },
    {
      "cell_type": "markdown",
      "source": [],
      "metadata": {
        "id": "zDTgfwjNS_4c"
      }
    }
  ]
}